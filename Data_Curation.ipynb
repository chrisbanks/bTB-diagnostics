{
 "cells": [
  {
   "cell_type": "code",
   "execution_count": null,
   "id": "e08dd426-bb88-4d71-9a5c-a7019c3e2431",
   "metadata": {},
   "outputs": [],
   "source": [
    "using DataFrames\n",
    "using CSV\n",
    "using Dates\n",
    "using ProgressMeter\n",
    "#using ArchGDAL\n",
    "using StatsBase"
   ]
  },
  {
   "cell_type": "code",
   "execution_count": null,
   "id": "8267d9fb-ab01-49d2-8c6b-fc1d17d3300d",
   "metadata": {},
   "outputs": [],
   "source": [
    "ENV[\"COLUMNS\"]=500;"
   ]
  },
  {
   "cell_type": "markdown",
   "id": "80dc3cf3-f5e4-4e2c-af25-5b799e5d4e52",
   "metadata": {},
   "source": [
    "# Prepare data from SAM"
   ]
  },
  {
   "cell_type": "code",
   "execution_count": null,
   "id": "7cf8fadf-a9a5-45f7-a2ab-16b83370c998",
   "metadata": {},
   "outputs": [],
   "source": [
    "## Load SAM Test data:\n",
    "test_cols = [:ctTestDate,:ctTestType_FOI,:ctResultOfTest,:ctClearFlag,:ctAssetPK,:ctCPH,:ctCphh_fmt,:ctNumber,:ctSize,:ctReactors,:ctNumberNotTested,\n",
    "              :ctBreakId,:ctPartCode,:ctConfirmed,:ctTaken,:ctSHTaken,:ctCategory,:ctInterp,:ctSpecies,:ctSlaughteredIRs]\n",
    "SAM_Test = CSV.read(\"/Data/SAM/tblccdTest.txt\", DataFrame, dateformat=\"d/m/yyyy HH:MM:SS\", select=test_cols)\n",
    ";"
   ]
  },
  {
   "cell_type": "code",
   "execution_count": null,
   "id": "416aee5e-1424-4b7b-aa68-0075660786e4",
   "metadata": {},
   "outputs": [],
   "source": [
    "## Pull out Gamma tests (for later)\n",
    "SAM_Test_Gamma = SAM_Test[(SAM_Test.ctTestDate.>=Date(\"2012\")).&&(isequal.(SAM_Test.ctCategory,\"GAMMA\")),:]  #Using isequal avoids missing\n",
    ";"
   ]
  },
  {
   "cell_type": "code",
   "execution_count": null,
   "id": "6d41d75d-e7ab-47de-9098-dca22a5c41c2",
   "metadata": {},
   "outputs": [],
   "source": [
    "## Select SICCT skin tests from 2012 onwards:\n",
    "SAM_Test = SAM_Test[(SAM_Test.ctTestDate.>=Date(\"2012\")).&&(isequal.(SAM_Test.ctCategory,\"TBSKINTEST\")),:]  #Using isequal avoids missing\n",
    ";"
   ]
  },
  {
   "cell_type": "code",
   "execution_count": null,
   "id": "5a25ace9-6684-448d-aded-344fce551fee",
   "metadata": {},
   "outputs": [],
   "source": [
    "## Select only Whole Herd tests\n",
    "#SAM_test_types = CSV.read(\"/Data/SAM/tlkccdTestType.txt\", DataFrame)\n",
    "#WH_test_types = SAM_test_types[isequal.(SAM_test_types.ttTypeCode,\"WH\"),:ttCode]\n",
    "\n",
    "#SAM_Test = \n",
    "#SAM_Test = SAM_Test[in(WH_test_types).(SAM_Test.ctTestType_FOI),:]\n",
    "#;"
   ]
  },
  {
   "cell_type": "code",
   "execution_count": null,
   "id": "d8fc2beb-1bbc-4993-9d91-ce8a71419491",
   "metadata": {},
   "outputs": [],
   "source": [
    "## Remove records without a test result\n",
    "SAM_Test = SAM_Test[(.!ismissing.(SAM_Test.ctResultOfTest)).&&(in([\"C\",\"NC\"]).(SAM_Test.ctResultOfTest)),:]\n",
    ";"
   ]
  },
  {
   "cell_type": "code",
   "execution_count": null,
   "id": "75cc0474-1029-4c1a-b0be-b40d22979010",
   "metadata": {},
   "outputs": [],
   "source": [
    "## Convert DateTimes to Dates\n",
    "SAM_Test.ctTestDate = convert.(Date,SAM_Test.ctTestDate)\n",
    ";"
   ]
  },
  {
   "cell_type": "code",
   "execution_count": null,
   "id": "18daa147-5a4a-4dfa-ade8-2b06175cb281",
   "metadata": {},
   "outputs": [],
   "source": [
    "## Load SAM Herd (Location) data\n",
    "herd_cols = [:chAssetPK,:chMapX,:chMapY,:chType,:chSpecies,:chHerdSize_CTS]\n",
    "SAM_Herd = CSV.read(\"/Data/SAM/tblccdHerd_FOI.txt\", DataFrame, select=herd_cols)\n",
    ";"
   ]
  },
  {
   "cell_type": "code",
   "execution_count": null,
   "id": "a366b8be-cc10-4543-ab0e-1bb1cf044d24",
   "metadata": {},
   "outputs": [],
   "source": [
    "SAM_joined = innerjoin(SAM_Test,SAM_Herd,on=:ctAssetPK=>:chAssetPK)\n",
    ";"
   ]
  },
  {
   "cell_type": "code",
   "execution_count": null,
   "id": "4d9a59e9-8ef8-41cb-9e63-a74548e2c23d",
   "metadata": {},
   "outputs": [],
   "source": [
    "## Load SAM Breakdowns\n",
    "bd_cols = [:cbAssetPK,:cbBreakDate,:cbConfDate,:cbTB10Date]\n",
    "SAM_Breakdown = CSV.read(\"/Data/SAM/tblccdBreakdown.txt\", DataFrame, select=bd_cols, delim='|', dateformat=\"d/m/yyyy HH:MM:SS\")\n",
    "SAM_Breakdown.cbBreakDate = convert.(Date,SAM_Breakdown.cbBreakDate)\n",
    "SAM_Breakdown.cbConfDate = passmissing(convert).(Date,SAM_Breakdown.cbConfDate)\n",
    "SAM_Breakdown.cbTB10Date = passmissing(convert).(Date,SAM_Breakdown.cbTB10Date)\n",
    ";"
   ]
  },
  {
   "cell_type": "code",
   "execution_count": null,
   "id": "eda3396a-27a3-429a-9fd4-57f91f7a0ba0",
   "metadata": {},
   "outputs": [],
   "source": [
    "## Group breakdowns by asset, for fast searching\n",
    "SAM_Breakdown_byAsset = groupby(SAM_Breakdown,:cbAssetPK)\n",
    ";"
   ]
  },
  {
   "cell_type": "code",
   "execution_count": null,
   "id": "0337854a-fc12-4fbb-8b0f-9a0fe886112f",
   "metadata": {},
   "outputs": [],
   "source": [
    "## Function: previousBreakdown(assetPK,testDate,breakdownTable)\n",
    "## Returns the date of the last breakdown before testDate for the asset (herd)\n",
    "## or \"missing\" if no previous breakdowns.\n",
    "## Set pv=2 e.g. to get 2nd last, etc.\n",
    "## Uses breakdown table grouped by asset for fast searching\n",
    "function previousBreakdown(assetPK,testDate,pv=1)\n",
    "    if (assetPK,) in keys( SAM_Breakdown_byAsset)\n",
    "        bds = SAM_Breakdown_byAsset[(assetPK,)]\n",
    "    else\n",
    "        return missing\n",
    "    end\n",
    "    pvbds = bds[bds.cbBreakDate.<testDate,:cbBreakDate] |> unique |> sort\n",
    "    if length(pvbds)>pv-1\n",
    "        return pvbds[end-pv+1]\n",
    "    else\n",
    "        return missing\n",
    "    end\n",
    "end\n",
    ";"
   ]
  },
  {
   "cell_type": "code",
   "execution_count": null,
   "id": "4c0af129-8e87-45e0-8217-b5013092c8af",
   "metadata": {},
   "outputs": [],
   "source": [
    "## Add previous breakdown dates to SAM_joined table\n",
    "@time SAM_joined.previousBreakdown = previousBreakdown.(SAM_joined.ctAssetPK,SAM_joined.ctTestDate)\n",
    "@time SAM_joined.previousBreakdown2 = previousBreakdown.(SAM_joined.ctAssetPK,SAM_joined.ctTestDate,2)\n",
    ";    "
   ]
  },
  {
   "cell_type": "code",
   "execution_count": null,
   "id": "a7e33835-d2b8-4524-8d0f-6c6307ec9518",
   "metadata": {},
   "outputs": [],
   "source": [
    "## Function: dayValue(x)\n",
    "## Converts Day type to Int value, handles missing\n",
    "function dayValue(x::Union{Missing,Day})\n",
    "    if ismissing(x)\n",
    "        missing\n",
    "    else\n",
    "        x.value\n",
    "    end\n",
    "end\n",
    ";"
   ]
  },
  {
   "cell_type": "code",
   "execution_count": null,
   "id": "9701d39c-0641-455b-9209-83600a0cc0c1",
   "metadata": {},
   "outputs": [],
   "source": [
    "## Get number of days since last breakdown\n",
    "SAM_joined.daysSinceBreakdown = map(dayValue, SAM_joined.ctTestDate - SAM_joined.previousBreakdown)\n",
    ";"
   ]
  },
  {
   "cell_type": "code",
   "execution_count": null,
   "id": "46c74da4-8cc8-4f2a-8a35-03e2bcdbbc00",
   "metadata": {},
   "outputs": [],
   "source": [
    "## Get SAM table grouped by asset, for fast searching\n",
    "SAM_joined_byAsset = groupby(SAM_joined,:ctAssetPK)\n",
    ";"
   ]
  },
  {
   "cell_type": "code",
   "execution_count": null,
   "id": "2ed08234-e41f-4ada-8f42-5381b2f6c99d",
   "metadata": {},
   "outputs": [],
   "source": [
    "## Function: previousTest(assetPK,testDate)\n",
    "## Returns the result of the previous test before testDate for the asset (herd)\n",
    "## or \"missing\" if no previous tests.\n",
    "## Set pv=2 e.g. to get 2nd last, etc.\n",
    "## Uses the SAM table grouped by asset, for fast searching\n",
    "function previousTest(assetPK,testDate,pv=1)\n",
    "    tests = SAM_joined_byAsset[(assetPK,)]\n",
    "    pvtests = tests[tests.ctTestDate.<testDate,:]\n",
    "    pvtests = sort(unique(pvtests,:ctTestDate),:ctTestDate)\n",
    "    if nrow(pvtests)>pv-1\n",
    "        pvtests.ctResultOfTest[end-pv+1]\n",
    "    else\n",
    "        missing\n",
    "    end\n",
    "end\n",
    ";"
   ]
  },
  {
   "cell_type": "code",
   "execution_count": null,
   "id": "361c3266-3b1c-4993-9c42-1a4ae2aeba99",
   "metadata": {},
   "outputs": [],
   "source": [
    "## Get results of previous tests\n",
    "@time SAM_joined.previousResultOfTest = previousTest.(SAM_joined.ctAssetPK,SAM_joined.ctTestDate)\n",
    "@time SAM_joined.previousResultOfTest2 = previousTest.(SAM_joined.ctAssetPK,SAM_joined.ctTestDate,2)\n",
    ";"
   ]
  },
  {
   "cell_type": "code",
   "execution_count": null,
   "id": "187edc37-1315-4f73-b8fc-e243f8b45ca4",
   "metadata": {},
   "outputs": [],
   "source": [
    "## Function: daysSincePreviousTest(assetPK,testDate)\n",
    "## Returns the days since previous test before testDate for the asset (herd)\n",
    "## or \"missing\" if no previous tests.\n",
    "## Set pv=2 e.g. to get 2nd last, etc.\n",
    "## Uses the SAM table grouped by asset, for fast searching\n",
    "function daysSincePreviousTest(assetPK,testDate,pv=1)\n",
    "    tests = SAM_joined_byAsset[(assetPK,)]\n",
    "    pvtests = tests[tests.ctTestDate.<testDate,:]\n",
    "    pvtests = sort(unique(pvtests,:ctTestDate),:ctTestDate)\n",
    "    if nrow(pvtests)>pv-1\n",
    "        dayValue(testDate - pvtests.ctTestDate[end-pv+1])\n",
    "    else\n",
    "        missing\n",
    "    end\n",
    "end\n",
    ";"
   ]
  },
  {
   "cell_type": "code",
   "execution_count": null,
   "id": "189b525a-01da-41bf-8d55-77a89feb5f0a",
   "metadata": {},
   "outputs": [],
   "source": [
    "## Get days since previous tests\n",
    "@time SAM_joined.daysSincePreviousTest = daysSincePreviousTest.(SAM_joined.ctAssetPK,SAM_joined.ctTestDate)\n",
    ";"
   ]
  },
  {
   "cell_type": "code",
   "execution_count": null,
   "id": "3a1df291-5eed-42fe-ac86-c547703a4bf1",
   "metadata": {},
   "outputs": [],
   "source": [
    "## Load Defra risk score table from SAM\n",
    "SAM_RiskScore = CSV.read(\"/Data/SAM/tblRBT_Scores.txt\", DataFrame)\n",
    ";"
   ]
  },
  {
   "cell_type": "code",
   "execution_count": null,
   "id": "f875fff6-675e-4b7a-839b-bbb2fd14aa10",
   "metadata": {},
   "outputs": [],
   "source": [
    "## Group risk scores by cph, for fast searching\n",
    "SAM_RiskScore_byCPH = groupby(SAM_RiskScore,:CPH)\n",
    ";"
   ]
  },
  {
   "cell_type": "code",
   "execution_count": null,
   "id": "e46deb6e-a7e7-4a7c-ae8a-3f30b24444aa",
   "metadata": {},
   "outputs": [],
   "source": [
    "## Function: defraRiskScore(assetPK,testDate)\n",
    "## Get the Defra risk score for the holding on the date of the test\n",
    "function defraRiskScore(cph,testDate)\n",
    "    if (cph,) in keys(SAM_RiskScore_byCPH)\n",
    "        scores = SAM_RiskScore_byCPH[(cph,)]\n",
    "        result = scores.RiskScore[(scores.FromDate.<=testDate).&(scores.ToDate.>=testDate)]\n",
    "        if length(result) > 0\n",
    "            return result[end]\n",
    "        else\n",
    "            return missing\n",
    "        end\n",
    "    else\n",
    "        return missing\n",
    "    end\n",
    "end"
   ]
  },
  {
   "cell_type": "code",
   "execution_count": null,
   "id": "06d22218-199f-4f43-b7d1-5318ce48ee58",
   "metadata": {},
   "outputs": [],
   "source": [
    "## Get Defra risk score for holding at test date\n",
    "@time SAM_joined.defraRiskScore = defraRiskScore.(SAM_joined.ctCPH,SAM_joined.ctTestDate)\n",
    ";"
   ]
  },
  {
   "cell_type": "code",
   "execution_count": null,
   "id": "4f4ea55c-c79b-44c1-9385-fc9ee9898339",
   "metadata": {},
   "outputs": [],
   "source": [
    "## Function: breakdownConfirmed(assetPK,testDate,x)\n",
    "## Returns  whether there was a breakdown within x days of testDate for the asset (herd)\n",
    "## Uses breakdown table grouped by asset for fast searching\n",
    "function confirmedBreakdown(assetPK,testDate,x)\n",
    "    if (assetPK,) in keys(SAM_Breakdown_byAsset)\n",
    "        bds = SAM_Breakdown_byAsset[(assetPK,)]\n",
    "    else\n",
    "        return false\n",
    "    end\n",
    "    bds = dropmissing(bds)\n",
    "    fcbds = bds[(bds.cbConfDate.>=testDate),:cbConfDate]\n",
    "    cbds = fcbds[fcbds.<=testDate+Day(x)]\n",
    "    return length(cbds)>0\n",
    "end\n",
    ";"
   ]
  },
  {
   "cell_type": "code",
   "execution_count": null,
   "id": "f08ede4a-b311-4ab4-be87-593f31ba652d",
   "metadata": {},
   "outputs": [],
   "source": [
    "## Get whether the test resulted in a confirmed (lesion or culture)\n",
    "@time SAM_joined.confirmedBreakdown = confirmedBreakdown.(SAM_joined.ctAssetPK,SAM_joined.ctTestDate,90)\n",
    ";"
   ]
  },
  {
   "cell_type": "markdown",
   "id": "ac11d232-667f-4666-92e4-685b06d8284f",
   "metadata": {},
   "source": [
    "# Gamma testing (as proxy for badger culling?)"
   ]
  },
  {
   "cell_type": "code",
   "execution_count": null,
   "id": "74b3bd7e-ee23-4c60-b2ac-2fc1a5dbccf5",
   "metadata": {},
   "outputs": [],
   "source": [
    "## Group gamma tests by asset (for fast searching)\n",
    "SAM_Test_Gamma_byAsset = groupby(SAM_Test_Gamma,:ctAssetPK)\n",
    ";"
   ]
  },
  {
   "cell_type": "code",
   "execution_count": null,
   "id": "9cd819c1-b7be-4219-bc2d-6774dbbf7716",
   "metadata": {},
   "outputs": [],
   "source": [
    "## Function: gammaCount(assetPK,testDate)\n",
    "## Gets then number of gamma tests per asset prior to test date\n",
    "function gammaCount(assetPK,testDate)\n",
    "    if (assetPK,) in keys(SAM_Test_Gamma_byAsset)\n",
    "        h = SAM_Test_Gamma_byAsset[(assetPK,)]\n",
    "        return nrow(h[h.ctTestDate.<=testDate,:])\n",
    "    else\n",
    "        return 0\n",
    "    end\n",
    "end;"
   ]
  },
  {
   "cell_type": "code",
   "execution_count": null,
   "id": "80f23c58-5f54-4d7e-a5f5-a144d288e5fd",
   "metadata": {
    "tags": []
   },
   "outputs": [],
   "source": [
    "## Get the number of prior gamma tests in the herd\n",
    "@time SAM_joined.gammaTestCount = gammaCount.(SAM_joined.ctAssetPK,SAM_joined.ctTestDate)\n",
    ";"
   ]
  },
  {
   "cell_type": "markdown",
   "id": "636e0897-4da7-4733-aad9-9a846198fd55",
   "metadata": {},
   "source": [
    "# <mark>Prepare data from CTS"
   ]
  },
  {
   "cell_type": "code",
   "execution_count": null,
   "id": "357bb64b-6725-4ab4-8528-bb2cffc2a18c",
   "metadata": {},
   "outputs": [],
   "source": [
    "## Load CTS movements data:\n",
    "move_cols = [:MovementDate,:OffLocationKey,:OnLocationKey,:Birth,:Death]\n",
    "CTS_moveT = CSV.read(\"/Data/CTS/tblMovementTransition.csv\", DataFrame, select=move_cols, dateformat=\"yyyy-mm-dd HH:MM:SS\")\n",
    ";"
   ]
  },
  {
   "cell_type": "code",
   "execution_count": null,
   "id": "204030d0-571c-4100-858d-4fcd4cb7a35e",
   "metadata": {},
   "outputs": [],
   "source": [
    "## Remove missing dates\n",
    "dropmissing!(CTS_moveT,:MovementDate)\n",
    ";"
   ]
  },
  {
   "cell_type": "code",
   "execution_count": null,
   "id": "46b061b3-9334-4a35-86e3-9d76e4c9a5fe",
   "metadata": {},
   "outputs": [],
   "source": [
    "## Since 2012\n",
    "CTS_moveT = CTS_moveT[CTS_moveT.MovementDate.>=Date(\"2012\"),:]\n",
    ";"
   ]
  },
  {
   "cell_type": "code",
   "execution_count": null,
   "id": "f0f611a9-1be8-4467-94a0-b7f79fb56b5a",
   "metadata": {},
   "outputs": [],
   "source": [
    "## Convert DateTimes to Dates\n",
    "CTS_moveT.MovementDate = convert.(Date,CTS_moveT.MovementDate)\n",
    ";"
   ]
  },
  {
   "cell_type": "code",
   "execution_count": null,
   "id": "69da6176-3917-46c9-b299-c661b2eb5bab",
   "metadata": {},
   "outputs": [],
   "source": [
    "## Load CTS locations:\n",
    "loc_cols = [:LocationKey,:CurrentSamCPH]\n",
    "CTS_loc = CSV.read(\"/Data/CTS/tblLocation_fixed.csv\",DataFrame,select=loc_cols)\n",
    ";"
   ]
  },
  {
   "cell_type": "code",
   "execution_count": null,
   "id": "c4f41834-f62f-4e86-b5d6-1a38c9410850",
   "metadata": {},
   "outputs": [],
   "source": [
    "## Map CTS Location IDs to CPH (Int)\n",
    "lockey2cph_map = Dict(zip(CTS_loc.LocationKey, CTS_loc.CurrentSamCPH))\n",
    "function lockey2cph(x)\n",
    "    if x in keys(lockey2cph_map)\n",
    "        lockey2cph_map[x]\n",
    "    else \n",
    "        missing\n",
    "    end\n",
    "end\n",
    ";"
   ]
  },
  {
   "cell_type": "code",
   "execution_count": null,
   "id": "c2905385-aced-47c2-92a4-54d0ec0bea41",
   "metadata": {},
   "outputs": [],
   "source": [
    "## Add Off/On location CPHs\n",
    "CTS_moveT.OffCPH = lockey2cph.(CTS_moveT.OffLocationKey)\n",
    "CTS_moveT.OnCPH = lockey2cph.(CTS_moveT.OnLocationKey)\n",
    ";"
   ]
  },
  {
   "cell_type": "code",
   "execution_count": null,
   "id": "267eed71-d9cf-4aad-bbba-301abf186426",
   "metadata": {},
   "outputs": [],
   "source": [
    "## Group by CPH (on and off) for fast searching\n",
    "CTS_moveT_byOnCPH = groupby(CTS_moveT,:OnCPH)\n",
    "CTS_moveT_byOffCPH = groupby(CTS_moveT,:OffCPH)\n",
    ";"
   ]
  },
  {
   "cell_type": "code",
   "execution_count": null,
   "id": "cf16b072-9e48-4e29-87f6-408c46381d76",
   "metadata": {},
   "outputs": [],
   "source": [
    "## Function: inflow(CPH,testDate,d)\n",
    "## Gets the number of animals moved onto asset within d days prior to test date\n",
    "function inflow(cph_i,testDate,d)\n",
    "    cph = string(cph_i)\n",
    "    if (cph,) in keys(CTS_moveT_byOnCPH)\n",
    "        h = CTS_moveT_byOnCPH[(cph,)]\n",
    "        return nrow(h[(h.MovementDate.<=testDate).&(h.MovementDate.>testDate-Day(d)),:])\n",
    "    else\n",
    "        return 0\n",
    "    end\n",
    "end;\n",
    "\n",
    "## Function: outflow(CPH,testDate,d)\n",
    "## Gets the number of animals moved off asset within d days prior to test date\n",
    "function outflow(cph_i,testDate,d)\n",
    "    cph = string(cph_i)\n",
    "    if (cph,) in keys(CTS_moveT_byOffCPH)\n",
    "        h = CTS_moveT_byOffCPH[(cph,)]\n",
    "        return nrow(h[(h.MovementDate.<=testDate).&(h.MovementDate.>testDate-Day(d)),:])\n",
    "    else\n",
    "        return 0\n",
    "    end\n",
    "end;"
   ]
  },
  {
   "cell_type": "code",
   "execution_count": null,
   "id": "473654ed-52a0-4a14-bda0-d6e7798c9918",
   "metadata": {},
   "outputs": [],
   "source": [
    "## Get the number number of animals moved into the herd within d days prior to test\n",
    "@time SAM_joined.inflow1 = inflow.(SAM_joined.ctCPH, SAM_joined.ctTestDate, 365)\n",
    "@time SAM_joined.inflow2 = inflow.(SAM_joined.ctCPH, SAM_joined.ctTestDate, 365*2)\n",
    "@time SAM_joined.inflow4 = inflow.(SAM_joined.ctCPH, SAM_joined.ctTestDate, 356*4)\n",
    "@time SAM_joined.inflow90 = inflow.(SAM_joined.ctCPH, SAM_joined.ctTestDate, 90)\n",
    ";\n",
    "\n",
    "## Get the number number of animals moved out of the herd within d days prior to test\n",
    "@time SAM_joined.outflow1 = outflow.(SAM_joined.ctCPH, SAM_joined.ctTestDate, 365)\n",
    "@time SAM_joined.outflow2 = outflow.(SAM_joined.ctCPH, SAM_joined.ctTestDate, 365*2)\n",
    "@time SAM_joined.outflow4 = outflow.(SAM_joined.ctCPH, SAM_joined.ctTestDate, 365*4)\n",
    "@time SAM_joined.outflow90 = outflow.(SAM_joined.ctCPH, SAM_joined.ctTestDate, 90)\n",
    ";"
   ]
  },
  {
   "cell_type": "code",
   "execution_count": null,
   "id": "02628ae6-3dc0-4236-84d4-44e5e1768af2",
   "metadata": {},
   "outputs": [],
   "source": [
    "## Function: breakdown_within(assetPK,testDate,d)::Bool\n",
    "## Does the location have a confirmed breakdown within d days of testDate? (Before or after)\n",
    "function breakdown_within(loc,testDate,d)\n",
    "    if ismissing(loc)\n",
    "        return false\n",
    "    end\n",
    "    if (loc,) in keys(SAM_Breakdown_byAsset)\n",
    "        # get breakdowns at location\n",
    "        bd = SAM_Breakdown_byAsset[(loc,)]\n",
    "        # filter missing confirm date\n",
    "        bd = dropmissing(bd,:cbConfDate)\n",
    "        # filter confirmed within d days\n",
    "        bd = bd[(bd.cbConfDate.>=testDate-Day(d)).&(bd.cbConfDate.<testDate+Day(d)),:]\n",
    "        # are there any?\n",
    "        return nrow(bd)>0\n",
    "    else\n",
    "        return false\n",
    "    end\n",
    "end;"
   ]
  },
  {
   "cell_type": "code",
   "execution_count": null,
   "id": "e14c4ceb-1f47-4a35-af18-8f5cdc3bfdff",
   "metadata": {},
   "outputs": [],
   "source": [
    "## Function inflow_breakdown(CPH,testDate,d, b)\n",
    "## Gets the number of animals moved onto the farm, within d days, from farms that had a breakdown within b days.\n",
    "function inflow_breakdown(cph_i,testDate,d,b)\n",
    "    cph = string(cph_i)\n",
    "    if (cph,) in keys(CTS_moveT_byOnCPH)\n",
    "        # get moves onto location\n",
    "        h = CTS_moveT_byOnCPH[(cph,)]\n",
    "        # filter within d days of test date\n",
    "        h = h[(h.MovementDate.<=testDate).&(h.MovementDate.>testDate-Day(d)),:]\n",
    "        # filter for moves from CPH with breakdown within b days\n",
    "        h = h[breakdown_within.(h.OffLocationKey,testDate,b),:]\n",
    "        # return count\n",
    "        return nrow(h)\n",
    "    else\n",
    "        return 0\n",
    "    end\n",
    "end;\n",
    "\n",
    "## Function outflow_breakdown(CPH,testDate,d, b)\n",
    "## Gets the number of animals moved off the farm, within d days, onto farms that had a breakdown within b days.\n",
    "function outflow_breakdown(cph_i,testDate,d,b)\n",
    "    cph = string(cph_i)\n",
    "    if (cph,) in keys(CTS_moveT_byOffCPH)\n",
    "        # get moves off location\n",
    "        h = CTS_moveT_byOffCPH[(cph,)]\n",
    "        # filter within d days of test date\n",
    "        h = h[(h.MovementDate.<=testDate).&(h.MovementDate.>testDate-Day(d)),:]\n",
    "        # filter for moves from CPH with breakdown within b days\n",
    "        h = h[breakdown_within.(h.OnLocationKey,testDate,b),:]\n",
    "        # return count\n",
    "        return nrow(h)\n",
    "    else\n",
    "        return 0\n",
    "    end\n",
    "end;"
   ]
  },
  {
   "cell_type": "code",
   "execution_count": null,
   "id": "591db580-93e1-4733-af83-b7b15f8d2538",
   "metadata": {},
   "outputs": [],
   "source": [
    "## Get the number number of animals moved into the herd within d days prior to test\n",
    "## from farms that had a breakdown within 2 years\n",
    "@time SAM_joined.inflowBD1 = inflow_breakdown.(SAM_joined.ctCPH, SAM_joined.ctTestDate, 365, 365*2)\n",
    "@time SAM_joined.inflowBD2 = inflow_breakdown.(SAM_joined.ctCPH, SAM_joined.ctTestDate, 365*2, 365*2)\n",
    "@time SAM_joined.inflowBD4 = inflow_breakdown.(SAM_joined.ctCPH, SAM_joined.ctTestDate, 365*4, 365*2)\n",
    "@time SAM_joined.inflowBD90 = inflow_breakdown.(SAM_joined.ctCPH, SAM_joined.ctTestDate, 90, 365*2)\n",
    "\n",
    "## Get the number number of animals moved off the herd within d days prior to test\n",
    "## to farms that had a breakdown within 2 years\n",
    "@time SAM_joined.outflowBD1 = outflow_breakdown.(SAM_joined.ctCPH, SAM_joined.ctTestDate, 365, 365*2)\n",
    "@time SAM_joined.outflowBD2 = outflow_breakdown.(SAM_joined.ctCPH, SAM_joined.ctTestDate, 365*2, 365*2)\n",
    "@time SAM_joined.outflowBD4 = outflow_breakdown.(SAM_joined.ctCPH, SAM_joined.ctTestDate, 365*4, 365*2)\n",
    "@time SAM_joined.outflowBD90 = outflow_breakdown.(SAM_joined.ctCPH, SAM_joined.ctTestDate, 90, 365*2)\n",
    ";"
   ]
  },
  {
   "cell_type": "markdown",
   "id": "62a0c989-5db0-4798-a1c9-dc5dbda4b3b4",
   "metadata": {},
   "source": [
    "## <mark>TODO:</mark>\n",
    "\n",
    "* ~~Inflow / outflow from breakdown farms~~\n",
    "* ~~farm type /~~\n",
    "* ~~test type~~ / risk area\n",
    "* Age / breed\n",
    "* Herd on/off restriction\n",
    "* Defra risk score?\n",
    "* Seasonality (month of year?)\n",
    "* Birth/deaths need linking from Animals table (no births in movements, despite column, deaths may be just moves to slaughter?)\n",
    "* Moves from HRA herds"
   ]
  },
  {
   "cell_type": "code",
   "execution_count": null,
   "id": "92869f17-48ce-4389-99ae-bdec098b584d",
   "metadata": {},
   "outputs": [],
   "source": [
    "## Function: births(CPH,testDate,d)\n",
    "## Gets the number of animal births onto asset within d days prior to test date\n",
    "function births(cph,testDate,d)\n",
    "    if (cph,) in keys(CTS_moveT_byOffCPH)\n",
    "        h = CTS_moveT_byOffCPH[(cph,)]\n",
    "        return nrow(h[(h.MovementDate.<=testDate).&(h.MovementDate.>testDate-Day(d)).&(h.Birth),:])\n",
    "    else\n",
    "        return 0\n",
    "    end\n",
    "end;\n",
    "\n",
    "##\n",
    "\n",
    "## Function: deaths(CPH,testDate,d)\n",
    "## Gets the number of animal deaths at asset within d days prior to test date\n",
    "function deaths(cph,testDate,d)\n",
    "    if (cph,) in keys(CTS_moveT_byOffCPH)\n",
    "        h = CTS_moveT_byOffCPH[(cph,)]\n",
    "        return nrow(h[(h.MovementDate.<=testDate).&(h.MovementDate.>testDate-Day(d)).&(h.Death),:])\n",
    "    else\n",
    "        return 0\n",
    "    end\n",
    "end;"
   ]
  },
  {
   "cell_type": "code",
   "execution_count": null,
   "id": "9dcc56a0-66a5-4bc4-9aa2-24f3208e6d24",
   "metadata": {},
   "outputs": [],
   "source": [
    "## Birth/deaths need linking from Animals table (no births in movements, despite column, deaths may be just moves to slaughter?)"
   ]
  },
  {
   "cell_type": "markdown",
   "id": "a22ab481-ad9b-44c9-96ce-8db4afe302d5",
   "metadata": {},
   "source": [
    "# Add Vet data"
   ]
  },
  {
   "cell_type": "code",
   "execution_count": null,
   "id": "e8edaa04-d102-44fb-8134-3899ef62505c",
   "metadata": {},
   "outputs": [],
   "source": [
    "## Load Vet/Tuberculin data from UKFarmcare\n",
    "Vet_data = CSV.read(\"/Data/TB_Diagnostics/vetData.csv\", DataFrame)\n",
    "Vet_data_noCat = CSV.read(\"/Data/TB_Diagnostics/vetData_nonCat.csv\", DataFrame) #same without categorisation\n",
    ";"
   ]
  },
  {
   "cell_type": "code",
   "execution_count": null,
   "id": "3571bef6-f0cb-4f82-9167-a67a4938d416",
   "metadata": {},
   "outputs": [],
   "source": [
    "## Join the vet data with the SAM data\n",
    "SAM_joined_noCat = leftjoin(SAM_joined, Vet_data_noCat, on = [:ctTestDate => :Date, :ctCphh_fmt => :CPH], validate=(false, true)) #first without top 250 ctegrisation of vet data\n",
    "SAM_joined = leftjoin(SAM_joined, Vet_data, on = [:ctTestDate => :Date, :ctCphh_fmt => :CPH], validate=(false, true)) #then with categorisation\n",
    ";"
   ]
  },
  {
   "cell_type": "markdown",
   "id": "97fd2a05-e4b2-4b3b-9695-6bd504a13ef4",
   "metadata": {},
   "source": [
    "# Badger data"
   ]
  },
  {
   "cell_type": "code",
   "execution_count": null,
   "id": "04c8601b-14f4-4320-b8a9-e43962a4a698",
   "metadata": {},
   "outputs": [],
   "source": [
    "# Load badger abundance\n",
    "badger_data = CSV.read(\"/Data/TB_Diagnostics/Badgers/badgersAbundancePerHexCell.csv\", DataFrame)\n",
    "# Load cell locations\n",
    "badger_cells = CSV.read(\"/Data/TB_Diagnostics/Badgers/locationsPerHexCell.csv\", DataFrame)\n",
    ";"
   ]
  },
  {
   "cell_type": "code",
   "execution_count": null,
   "id": "f27f8913-5db4-4efa-9731-1a15f7500e1a",
   "metadata": {},
   "outputs": [],
   "source": [
    "# match CPHs to badger abundance\n",
    "badger_cph = leftjoin(badger_cells,badger_data, on=:hexCellID)[:,[:CPH,:meanBadgerAbundance]]\n",
    ";"
   ]
  },
  {
   "cell_type": "code",
   "execution_count": null,
   "id": "bb5823f3-5ca5-4310-ac1d-844707b03eb7",
   "metadata": {
    "scrolled": true
   },
   "outputs": [],
   "source": [
    "# Join with SAM data\n",
    "SAM_joined = leftjoin(SAM_joined,badger_cph,on=:ctCPH=>:CPH)\n",
    ";"
   ]
  },
  {
   "cell_type": "code",
   "execution_count": null,
   "id": "38b1d963-4bed-44bc-98bd-fd2e394da8d0",
   "metadata": {},
   "outputs": [],
   "source": [
    "(ismissing.(SAM_joined.meanBadgerAbundance)|>sum) / nrow(SAM_joined)"
   ]
  },
  {
   "cell_type": "markdown",
   "id": "c7604d8d-c913-4d55-bf92-0017788d571c",
   "metadata": {},
   "source": [
    "# Extract features:"
   ]
  },
  {
   "cell_type": "code",
   "execution_count": null,
   "id": "abd4dd96-1f67-49be-958b-e6d6e7c5d9c9",
   "metadata": {},
   "outputs": [],
   "source": [
    "## Function: cat2int(x)\n",
    "## Transform a vector of categorical values into integers representing each category\n",
    "function cat2int(v)\n",
    "    s = Set(v)\n",
    "    d = Dict(collect(zip(s,1:length(s))))\n",
    "    map(x->d[x], v)\n",
    "end"
   ]
  },
  {
   "cell_type": "code",
   "execution_count": null,
   "id": "9e86c5d4-e8a9-45cc-9a40-6e16d539c0ea",
   "metadata": {},
   "outputs": [],
   "source": [
    "## Construct Input Vars table\n",
    "inputVars = DataFrame()\n",
    "\n",
    "## From SAM\n",
    "inputVars.dateOfTest = SAM_joined.ctTestDate\n",
    "inputVars.resultOfTest = SAM_joined.ctResultOfTest.==\"NC\"\n",
    "inputVars.monthOfTest = month.(SAM_joined.ctTestDate)\n",
    "inputVars.severe = SAM_joined.ctInterp.==\"SEVERE\"\n",
    "inputVars.animalsTested = SAM_joined.ctNumber\n",
    "inputVars.locationX = SAM_joined.chMapX\n",
    "inputVars.locationY = SAM_joined.chMapY\n",
    "inputVars.previousTestResult = SAM_joined.previousResultOfTest.==\"NC\"\n",
    "inputVars.previousTestResult2 = SAM_joined.previousResultOfTest2.==\"NC\"\n",
    "inputVars.daysSincePreviousTest = SAM_joined.daysSincePreviousTest\n",
    "inputVars.daysSinceBreakdown = SAM_joined.daysSinceBreakdown\n",
    "inputVars.gammaTestCount = SAM_joined.gammaTestCount\n",
    "inputVars.testType = cat2int(SAM_joined.ctTestType_FOI)\n",
    "inputVars.herdType = cat2int(SAM_joined.chType)\n",
    "inputVars.herdSize = SAM_joined.chHerdSize_CTS\n",
    "inputVars.defraRiskScore = SAM_joined.defraRiskScore\n",
    "\n",
    "## From CTS\n",
    "inputVars.inflow1 = SAM_joined.inflow1\n",
    "inputVars.inflow2 = SAM_joined.inflow2\n",
    "inputVars.inflow4 = SAM_joined.inflow4\n",
    "inputVars.inflow90 = SAM_joined.inflow90\n",
    "inputVars.outflow1 = SAM_joined.outflow1\n",
    "inputVars.outflow2 = SAM_joined.outflow2\n",
    "inputVars.outflow4 = SAM_joined.outflow4\n",
    "inputVars.outflow90 = SAM_joined.outflow90\n",
    "\n",
    "inputVars.inflowBD1 = SAM_joined.inflowBD1\n",
    "inputVars.inflowBD2 = SAM_joined.inflowBD2\n",
    "inputVars.inflowBD4 = SAM_joined.inflowBD4\n",
    "inputVars.inflowBD90 = SAM_joined.inflowBD90\n",
    "inputVars.outflowBD1 = SAM_joined.outflowBD1\n",
    "inputVars.outflowBD2 = SAM_joined.outflowBD2\n",
    "inputVars.outflowBD4 = SAM_joined.outflowBD4\n",
    "inputVars.outflowBD90 = SAM_joined.outflowBD90\n",
    "\n",
    "## From vet data\n",
    "inputVars.vetPractice = SAM_joined.Practice\n",
    "inputVars.batchBovine = SAM_joined.BatchBovine\n",
    "inputVars.batchAvian = SAM_joined.BatchAvian\n",
    "\n",
    "## Badgers\n",
    "inputVars.meanBadgerAbundance = SAM_joined.meanBadgerAbundance\n",
    "\n",
    "## Target var (breakdown within 90 days)\n",
    "inputVars.confirmedBreakdown = SAM_joined.confirmedBreakdown\n",
    ";"
   ]
  },
  {
   "cell_type": "code",
   "execution_count": null,
   "id": "172deb53-7da0-4218-aa46-b34c74cba1ce",
   "metadata": {},
   "outputs": [],
   "source": [
    "## Uncategorised verison\n",
    "inputVars_noCat = copy(inputVars)\n",
    "inputVars_noCat.vetPractice = SAM_joined_noCat.Practice\n",
    "inputVars_noCat.batchBovine = SAM_joined_noCat.BatchBovine\n",
    "inputVars_noCat.batchAvian = SAM_joined_noCat.BatchAvian\n",
    "inputVars_noCat.herdType = SAM_joined.chType\n",
    "inputVars_noCat.testType = SAM_joined.ctTestType_FOI\n",
    ";"
   ]
  },
  {
   "cell_type": "markdown",
   "id": "6fdf60a2-41bc-4b1d-bb75-0acae7e27ffa",
   "metadata": {},
   "source": [
    "# Write to file"
   ]
  },
  {
   "cell_type": "code",
   "execution_count": null,
   "id": "e1957496-8c20-413b-8383-daa1507dcf7c",
   "metadata": {},
   "outputs": [],
   "source": [
    "## Store Input Vars table\n",
    "CSV.write(\"/Data/TB_Diagnostics/inputVars.csv\",inputVars)\n",
    "CSV.write(\"/Data/TB_Diagnostics/inputVars_noCat.csv\",inputVars_noCat) #uncategorised version"
   ]
  },
  {
   "cell_type": "code",
   "execution_count": null,
   "id": "2f1eaf70-f256-4e25-a0cc-da7c6175bc4d",
   "metadata": {},
   "outputs": [],
   "source": [
    "## Write file without dates\n",
    "##CSV.write(\"/Data/TB_Diagnostics/inputVars_nodate.csv\",inputVars[:,2:end])"
   ]
  },
  {
   "cell_type": "markdown",
   "id": "ea694377-11da-43e4-9a35-38e95936c51b",
   "metadata": {},
   "source": [
    "---\n",
    "---\n",
    "# Testing:"
   ]
  },
  {
   "cell_type": "code",
   "execution_count": null,
   "id": "cddf5cac-b041-4f5d-9d78-42532f08b09d",
   "metadata": {},
   "outputs": [],
   "source": [
    "#SAM_Test[SAM_Test.ctTestDate.==Date(\"2019-01-01\"),:]"
   ]
  }
 ],
 "metadata": {
  "kernelspec": {
   "display_name": "Julia 1.10.0",
   "language": "julia",
   "name": "julia-1.10"
  },
  "language_info": {
   "file_extension": ".jl",
   "mimetype": "application/julia",
   "name": "julia",
   "version": "1.10.1"
  }
 },
 "nbformat": 4,
 "nbformat_minor": 5
}
