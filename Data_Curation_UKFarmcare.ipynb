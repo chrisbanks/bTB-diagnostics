{
 "cells": [
  {
   "cell_type": "code",
   "execution_count": null,
   "id": "2547b032-1cc9-4e95-bbee-d0793bf0bc0b",
   "metadata": {},
   "outputs": [],
   "source": [
    "import pandas as pd\n",
    "import geopandas as gp\n",
    "import matplotlib.pyplot as plt\n",
    "import seaborn as sb\n",
    "import numpy as np\n",
    "from scipy.stats import binomtest"
   ]
  },
  {
   "cell_type": "markdown",
   "id": "cf0cc169-1344-4f8d-8280-e6cca7a62133",
   "metadata": {},
   "source": [
    "# Prepare veterinary data"
   ]
  },
  {
   "cell_type": "markdown",
   "id": "2d2f3add-f582-4ce3-b9bf-d9681bb3b3d5",
   "metadata": {},
   "source": [
    "This script prepares the veterinary and tuberculin batch data from UKFarmcare for the TB Diagnostics model."
   ]
  },
  {
   "cell_type": "markdown",
   "id": "97f08ba6-9459-4ad0-8fac-6df76a8e4977",
   "metadata": {},
   "source": [
    "## Load raw data"
   ]
  },
  {
   "cell_type": "markdown",
   "id": "7f9af1ba-ded0-4175-9860-fff15c2ff904",
   "metadata": {},
   "source": [
    "The data is supplied in Excel format, encrypted, with a sheet per year. Here we load indinviual year sheets that have been extracted as CSVs.\n",
    "There are no batch numbers for 2015."
   ]
  },
  {
   "cell_type": "code",
   "execution_count": null,
   "id": "be8c1d57-6dbd-4e75-a31c-e46671cf39e7",
   "metadata": {},
   "outputs": [],
   "source": [
    "cols = ['Date','CPH','Practice','Batch Numbers']"
   ]
  },
  {
   "cell_type": "code",
   "execution_count": null,
   "id": "28ef15b0-05da-449b-a031-dc9efc77a514",
   "metadata": {},
   "outputs": [],
   "source": [
    "data_2015 = pd.read_csv('/Data/TB_Diagnostics/TB_Vet_Data/TestData_2015.csv', usecols=cols[:-1], dtype=str, parse_dates=['Date'], dayfirst=True)\n",
    "data_2016 = pd.read_csv('/Data/TB_Diagnostics/TB_Vet_Data/TestData_2016.csv', usecols=cols, dtype=str, parse_dates=['Date'], dayfirst=True)\n",
    "data_2017 = pd.read_csv('/Data/TB_Diagnostics/TB_Vet_Data/TestData_2017.csv', usecols=cols, dtype=str, parse_dates=['Date'], dayfirst=True)\n",
    "data_2018 = pd.read_csv('/Data/TB_Diagnostics/TB_Vet_Data/TestData_2018.csv', usecols=cols, dtype=str, parse_dates=['Date'], dayfirst=True)\n",
    "data_2019 = pd.read_csv('/Data/TB_Diagnostics/TB_Vet_Data/TestData_2019.csv', usecols=cols, dtype=str, parse_dates=['Date'], dayfirst=True)"
   ]
  },
  {
   "cell_type": "markdown",
   "id": "50000d46-97a4-4e74-9d28-1572127ed951",
   "metadata": {},
   "source": [
    "## Concatenate all years"
   ]
  },
  {
   "cell_type": "code",
   "execution_count": null,
   "id": "08a9fc38-ed77-42bf-9a27-1e99c7fa563a",
   "metadata": {},
   "outputs": [],
   "source": [
    "data = pd.concat([data_2015,data_2016,data_2017,data_2018,data_2019], ignore_index=True)"
   ]
  },
  {
   "cell_type": "markdown",
   "id": "060472ae-20bb-4849-aedc-c1bd538be6ec",
   "metadata": {},
   "source": [
    "## Clean data"
   ]
  },
  {
   "cell_type": "code",
   "execution_count": null,
   "id": "2324d7d6-3e60-43b0-a1e9-90025f9932c0",
   "metadata": {},
   "outputs": [],
   "source": [
    "# Remove any rows with NAs in both practice and batch:\n",
    "data = data.dropna(how='all', subset=['Practice','Batch Numbers'])"
   ]
  },
  {
   "cell_type": "code",
   "execution_count": null,
   "id": "4d77bd41-8728-4968-a123-0857ca414e7d",
   "metadata": {},
   "outputs": [],
   "source": [
    "# Remove * suffix from practice names:\n",
    "data.loc[:,'Practice'] = data.Practice.str.replace('*','', regex=False)"
   ]
  },
  {
   "cell_type": "code",
   "execution_count": null,
   "id": "b8ef9ec3-8949-447e-94d9-d79d85248066",
   "metadata": {},
   "outputs": [],
   "source": [
    "# Drop duplicates\n",
    "data = data.drop_duplicates(subset=['Date','CPH'])"
   ]
  },
  {
   "cell_type": "code",
   "execution_count": null,
   "id": "3164db90-5555-491d-ac84-fe57d8f33b6b",
   "metadata": {},
   "outputs": [],
   "source": [
    "data"
   ]
  },
  {
   "cell_type": "code",
   "execution_count": null,
   "id": "d830750d-478f-4e69-a601-62d02bccf789",
   "metadata": {},
   "outputs": [],
   "source": [
    "data.dropna()"
   ]
  },
  {
   "cell_type": "code",
   "execution_count": null,
   "id": "667b4cf7-5c89-4582-8a73-7eebfffefacf",
   "metadata": {},
   "outputs": [],
   "source": [
    "data.Practice.value_counts()"
   ]
  },
  {
   "cell_type": "markdown",
   "id": "eb9915ea-5f63-4922-abdf-561831c1d7b9",
   "metadata": {},
   "source": [
    "## Parse batch numbers"
   ]
  },
  {
   "cell_type": "markdown",
   "id": "021e8351-73fe-4c98-8158-69f17d2f14f9",
   "metadata": {},
   "source": [
    "Unfortunately, batch numbers come in a bewildering array of formats. Gernerally, however the Avian batch is the first six digit number and the Bovine batch the second. Parse according ot this rule, stripping away any other text."
   ]
  },
  {
   "cell_type": "code",
   "execution_count": null,
   "id": "119d2fe1-d4c6-4ae1-8f51-a77bb065457a",
   "metadata": {},
   "outputs": [],
   "source": [
    "# split out the batch numbers\n",
    "# (here we're assuming the first number is avian, the second is bovine)\n",
    "batch_split = data['Batch Numbers'].str.split(\"[^0-9]\").str.join(' ').str.split(expand=True,n=1).dropna()\n",
    "batch_split = batch_split.rename(columns={0:'BatchAvian',1:'BatchBovine'})"
   ]
  },
  {
   "cell_type": "code",
   "execution_count": null,
   "id": "747afd01-a2b6-4bf2-85b8-4153cfd6afe4",
   "metadata": {},
   "outputs": [],
   "source": [
    "# Limit to 6 digit numbers\n",
    "batch_split = batch_split[batch_split.BatchAvian.str.contains('^[0-9]{6}$')]\n",
    "batch_split = batch_split[batch_split.BatchBovine.str.contains('^[0-9]{6}$')]"
   ]
  },
  {
   "cell_type": "code",
   "execution_count": null,
   "id": "66d99dd7-a32b-4a83-aa7d-c35e43d9436a",
   "metadata": {},
   "outputs": [],
   "source": [
    "# rejoin with data\n",
    "data = data.join(batch_split)"
   ]
  },
  {
   "cell_type": "code",
   "execution_count": null,
   "id": "0d5f15ec-006f-411e-9ce7-785200a18c1d",
   "metadata": {},
   "outputs": [],
   "source": [
    "data.BatchBovine.value_counts()"
   ]
  },
  {
   "cell_type": "code",
   "execution_count": null,
   "id": "6d79eb30-1c14-400f-b779-11d506b6aedf",
   "metadata": {},
   "outputs": [],
   "source": [
    "data.BatchAvian.value_counts()"
   ]
  },
  {
   "cell_type": "markdown",
   "id": "d0c5fdbf-3263-41af-8eed-b6d1c47238c6",
   "metadata": {},
   "source": [
    "## Analysis"
   ]
  },
  {
   "cell_type": "code",
   "execution_count": null,
   "id": "56b9532b-0582-4496-9aff-c47c869aedfd",
   "metadata": {},
   "outputs": [],
   "source": [
    "data.Practice.value_counts().plot.bar(figsize=(60,10))"
   ]
  },
  {
   "cell_type": "code",
   "execution_count": null,
   "id": "a2b8afbc-414b-4489-8080-6fdcb991b3c6",
   "metadata": {},
   "outputs": [],
   "source": [
    "data.BatchBovine.value_counts().plot.bar(figsize=(60,10))"
   ]
  },
  {
   "cell_type": "code",
   "execution_count": null,
   "id": "f249c969-fab6-40dc-88ed-6ca1251decfb",
   "metadata": {},
   "outputs": [],
   "source": [
    "data.BatchAvian.value_counts().plot.bar(figsize=(60,10))"
   ]
  },
  {
   "cell_type": "code",
   "execution_count": null,
   "id": "e4b84293-49e3-404f-bd6f-c2efd0a55dbf",
   "metadata": {},
   "outputs": [],
   "source": [
    "fig = plt.figure(figsize=(20,5))\n",
    "ax = plt.subplot()\n",
    "data.dropna(subset=['Practice']).Date.value_counts().sort_index().resample('M').sum().plot.bar(ax=ax, color='red',alpha=0.5,label='Practice')\n",
    "data.dropna(subset=['Batch Numbers']).Date.value_counts().sort_index().resample('M').sum().plot.bar(ax=ax,color='blue',alpha=0.5,label='Batch')\n",
    "plt.legend()"
   ]
  },
  {
   "cell_type": "code",
   "execution_count": null,
   "id": "2353d150-38d9-4e3f-b295-abb54435fc3e",
   "metadata": {},
   "outputs": [],
   "source": [
    "data"
   ]
  },
  {
   "cell_type": "markdown",
   "id": "ea0525e9-36f1-4624-af9f-380958656232",
   "metadata": {},
   "source": [
    "## Raw output"
   ]
  },
  {
   "cell_type": "code",
   "execution_count": null,
   "id": "a4fd74b8-65d8-41b9-b290-f3aa30480ea1",
   "metadata": {},
   "outputs": [],
   "source": [
    "data.drop(columns=['Batch Numbers']).to_csv('/Data/TB_Diagnostics/vetData_nonCat.csv',index=False)"
   ]
  },
  {
   "cell_type": "markdown",
   "id": "c6a6f64d-e6da-4fe6-9e0e-d1d80f71d88a",
   "metadata": {},
   "source": [
    "## Categorical encoding"
   ]
  },
  {
   "cell_type": "markdown",
   "id": "7d7803ee-9d81-4fb6-a544-bf400cfe0fff",
   "metadata": {},
   "source": [
    "Practice and Batch data are nominal, high-cardinality features, so we need to encode them down to at most 255 categories for Histogram-based GBT, preferably lower for better computational performance (this is traded off with predictive performance...).\n",
    "\n",
    "One method to do this is Bayesian LeaveOneOut encoding [REF?], but this requires comparison to the target variable.\n",
    "Another is Hashing, but this splits the feature into multiple features, losing explainability...\n",
    "\n",
    "We choose here to take the 250 most frequent categories and an \"other\" cetegory."
   ]
  },
  {
   "cell_type": "code",
   "execution_count": null,
   "id": "d23d6eae-a23c-4451-9ab6-5526ca037023",
   "metadata": {},
   "outputs": [],
   "source": [
    "# Function to map categorical feature to an ID, grouping any beyond the top 250 into one ID and NaNs into one ID\n",
    "#def map_feature_to_category_id(feature):\n",
    "#    #function for limititing to 250\n",
    "#    def top250(x): return x if x<250 else 250\n",
    "#    size_order = list(feature.value_counts(dropna=False).index)\n",
    "#    ids = list(map(top250,list(range(len(size_order)))))\n",
    "#    index = {size_order[i]:ids[i] for i in range(len(size_order))}\n",
    "#    return feature.apply(lambda x:index[x])"
   ]
  },
  {
   "cell_type": "code",
   "execution_count": null,
   "id": "7730755f-7426-40e8-89ec-74cd25a749f9",
   "metadata": {},
   "outputs": [],
   "source": [
    "def map_feature_to_category_id(feature):\n",
    "    size_order = list(feature.value_counts().index)\n",
    "    mapping = dict(zip(size_order, list(map(lambda x: min(x,250), range(1,len(size_order)+1)))))\n",
    "    def catmap(x):\n",
    "        if pd.isna(x):\n",
    "            return x\n",
    "        else:\n",
    "            return mapping[x]\n",
    "    return feature.apply(catmap)"
   ]
  },
  {
   "cell_type": "code",
   "execution_count": null,
   "id": "64bac2fe-f32f-4d36-8b90-9f0fad7ec59e",
   "metadata": {},
   "outputs": [],
   "source": [
    "# Apply the categorical mapping to the data\n",
    "data.Practice = map_feature_to_category_id(data.Practice)\n",
    "data.BatchAvian = map_feature_to_category_id(data.BatchAvian)\n",
    "data.BatchBovine = map_feature_to_category_id(data.BatchBovine)"
   ]
  },
  {
   "cell_type": "markdown",
   "id": "95f272fd-f89e-4f0b-b072-a7b13f7782f9",
   "metadata": {},
   "source": [
    "## Categorical output"
   ]
  },
  {
   "cell_type": "code",
   "execution_count": null,
   "id": "fa0ed840-f843-4bd3-804f-8fa466f0e111",
   "metadata": {},
   "outputs": [],
   "source": [
    "data.drop(columns=['Batch Numbers']).to_csv('/Data/TB_Diagnostics/vetData.csv',index=False)"
   ]
  }
 ],
 "metadata": {
  "kernelspec": {
   "display_name": "Python 3 (ipykernel)",
   "language": "python",
   "name": "python3"
  },
  "language_info": {
   "codemirror_mode": {
    "name": "ipython",
    "version": 3
   },
   "file_extension": ".py",
   "mimetype": "text/x-python",
   "name": "python",
   "nbconvert_exporter": "python",
   "pygments_lexer": "ipython3",
   "version": "3.10.13"
  }
 },
 "nbformat": 4,
 "nbformat_minor": 5
}
