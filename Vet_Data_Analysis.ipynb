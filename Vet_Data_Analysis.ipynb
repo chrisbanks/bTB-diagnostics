{
 "cells": [
  {
   "cell_type": "code",
   "execution_count": null,
   "id": "e09f519e-9ef9-4cfd-8c0d-967826b12bb6",
   "metadata": {},
   "outputs": [],
   "source": [
    "import pandas as pd\n",
    "import matplotlib.pyplot as plt\n",
    "import seaborn as sb\n",
    "import numpy as np\n",
    "from scipy.stats import binomtest\n",
    "from scipy.stats import pearsonr\n",
    "import geopandas as gp\n",
    "from joblib import load"
   ]
  },
  {
   "cell_type": "markdown",
   "id": "993ad173-3bea-40b4-9de1-74739c1b5a18",
   "metadata": {},
   "source": [
    "# Post-mapping analysis"
   ]
  },
  {
   "cell_type": "markdown",
   "id": "0181c2c3-5c83-42e3-92b9-e60676a44737",
   "metadata": {},
   "source": [
    "~This uses the data mapped to top 250 categories, plus an 'other' category. Practice names are not retained in this data.~\n",
    "\n",
    "Replaced by feature data with vet names for deeper analysis:"
   ]
  },
  {
   "cell_type": "code",
   "execution_count": null,
   "id": "ab70a210-ea0e-4a4d-aebd-14b0daaa587f",
   "metadata": {},
   "outputs": [],
   "source": [
    "# Load practice/batch with test result feature table\n",
    "#inputVars = pd.read_csv('/Data/TB_Diagnostics/inputVars_NEW.csv', dtype=float, parse_dates=['dateOfTest'])\n",
    "inputVars = pd.read_csv('/Data/TB_Diagnostics/inputVars_noCat.csv', parse_dates=['dateOfTest'],low_memory=False)\n",
    "inputVars_model = pd.read_csv('/Data/TB_Diagnostics/inputVars.csv', parse_dates=['dateOfTest'],low_memory=False)"
   ]
  },
  {
   "cell_type": "code",
   "execution_count": null,
   "id": "72c3836f-3e8b-40e6-bfeb-c677a77885ba",
   "metadata": {},
   "outputs": [],
   "source": [
    "# Split into features(X)/target(y) for model validation later\n",
    "data_y = inputVars.confirmedBreakdown.to_numpy().astype(bool)\n",
    "data_X = inputVars.drop(columns=['confirmedBreakdown'])\n",
    "data_y_model = inputVars_model.confirmedBreakdown.to_numpy().astype(bool)\n",
    "data_X_model = inputVars_model.drop(columns=['confirmedBreakdown'])"
   ]
  },
  {
   "cell_type": "code",
   "execution_count": null,
   "id": "46b04d26-fdca-4e4e-a6cf-902e2d8fe97f",
   "metadata": {},
   "outputs": [],
   "source": [
    "inputVars"
   ]
  },
  {
   "cell_type": "code",
   "execution_count": null,
   "id": "7208cfdd-a84c-45e7-9951-a00c2d2d78d9",
   "metadata": {},
   "outputs": [],
   "source": [
    "# Proportion of positive tests by vet\n",
    "practice_test_sum = inputVars.groupby('vetPractice')['resultOfTest'].sum()\n",
    "practice_test_count = inputVars.groupby('vetPractice')['resultOfTest'].count()\n",
    "sb.histplot(practice_test_sum/practice_test_count)\n",
    "plt.title('Proportion of positve tests by vet practice')\n",
    "plt.xlabel('Positive Tests')"
   ]
  },
  {
   "cell_type": "code",
   "execution_count": null,
   "id": "d9a02bac-839c-40df-8d65-59b827970968",
   "metadata": {},
   "outputs": [],
   "source": [
    "# Proportion of positve tests by tuberculin batch (Bovine)\n",
    "batch_test_sum = inputVars.groupby('batchBovine')['resultOfTest'].sum()\n",
    "batch_test_count = inputVars.groupby('batchBovine')['resultOfTest'].count()\n",
    "sb.histplot(batch_test_sum/batch_test_count)\n",
    "plt.title('Proportion of positve tests by tuberculin batch (Bovine)')\n",
    "plt.xlabel('Positive Tests')"
   ]
  },
  {
   "cell_type": "code",
   "execution_count": null,
   "id": "87e99148-33d7-4d44-914a-38875dca69ac",
   "metadata": {},
   "outputs": [],
   "source": [
    "# Proportion of residuals by vet (where a negative (/posive) test was (/not) followed by a breakdown)\n",
    "inputVars['residual'] = (inputVars.resultOfTest != inputVars.confirmedBreakdown)\n",
    "practice_residual_sum = inputVars.groupby('vetPractice')['residual'].sum()\n",
    "practice_residual_count = inputVars.groupby('vetPractice')['residual'].count()\n",
    "sb.histplot(practice_residual_sum/practice_residual_count)\n",
    "plt.title('Proportion of residuals by vet practice')\n",
    "plt.xlabel('Proportion of residuals')"
   ]
  },
  {
   "cell_type": "code",
   "execution_count": null,
   "id": "ba5d00b5-4dba-4a7d-951d-16014afe4cf5",
   "metadata": {},
   "outputs": [],
   "source": [
    "# Vet practice accuracy (test --> breakdown)\n",
    "plt.rcParams.update({'font.size': 18})\n",
    "inputVars['vet_acc'] = (inputVars.resultOfTest == inputVars.confirmedBreakdown)\n",
    "practice_acc_sum = inputVars.groupby('vetPractice')['vet_acc'].sum()\n",
    "practice_acc_count = inputVars.groupby('vetPractice')['vet_acc'].count()\n",
    "sb.histplot(practice_acc_sum/practice_acc_count)\n",
    "plt.title('Accuracy by vet practice')\n",
    "plt.xlabel('Test accuracy')\n",
    "plt.savefig('../Paper/figs/vet_acc.pdf',bbox_inches='tight')"
   ]
  },
  {
   "cell_type": "code",
   "execution_count": null,
   "id": "8364f467-e915-4a7e-973a-85891fc6487f",
   "metadata": {},
   "outputs": [],
   "source": [
    "# Proportion of residuals by tuberculin batch (where a negative (/posive) test was (/not) followed by a breakdown)\n",
    "batch_residual_sum = inputVars.groupby('batchBovine')['residual'].sum()\n",
    "batch_residual_count = inputVars.groupby('batchBovine')['residual'].count()\n",
    "sb.histplot(batch_residual_sum/batch_residual_count)\n",
    "plt.title('Proportion of residuals by tuberculin batch (Bovine)')\n",
    "plt.xlabel('Proportion of residuals')"
   ]
  },
  {
   "cell_type": "code",
   "execution_count": null,
   "id": "6ff85bc3-81c7-457f-9572-c1f32ba8b787",
   "metadata": {},
   "outputs": [],
   "source": [
    "# Binomial test for vet practices\n",
    "expected_success = sum(inputVars.resultOfTest == inputVars.confirmedBreakdown) / len(inputVars)\n",
    "pvals_vet = []\n",
    "for i in inputVars.vetPractice.dropna().unique():\n",
    "    results_for_practice = inputVars[inputVars.vetPractice==i]\n",
    "    successes = sum(results_for_practice.resultOfTest == results_for_practice.confirmedBreakdown)\n",
    "    trials = len(results_for_practice)\n",
    "    pvals_vet.append(binomtest(successes,trials,expected_success).pvalue)"
   ]
  },
  {
   "cell_type": "code",
   "execution_count": null,
   "id": "595c709a-8ab3-4197-a776-b038cf40cc55",
   "metadata": {},
   "outputs": [],
   "source": [
    "# Distribution of p values\n",
    "sb.histplot(pvals_vet,bins=20)"
   ]
  },
  {
   "cell_type": "code",
   "execution_count": null,
   "id": "ef43c44b-94f0-4177-ad2b-1d2b6e2ed1b7",
   "metadata": {},
   "outputs": [],
   "source": [
    "# proportion of outliers\n",
    "sum(np.array(pvals_vet)<0.05) / len(pvals_vet)"
   ]
  },
  {
   "cell_type": "code",
   "execution_count": null,
   "id": "613a006c-e33b-4390-99b9-fb0f5934e0b5",
   "metadata": {},
   "outputs": [],
   "source": [
    "# Binomial test for tuberculin batches\n",
    "expected_success = sum(inputVars.resultOfTest == inputVars.confirmedBreakdown) / len(inputVars)\n",
    "pvals_batch = []\n",
    "for i in inputVars.batchBovine.dropna().unique():\n",
    "    results_for_batch = inputVars[inputVars.batchBovine==i]\n",
    "    successes = sum(results_for_batch.resultOfTest == results_for_batch.confirmedBreakdown)\n",
    "    trials = len(results_for_batch)\n",
    "    pvals_batch.append(binomtest(successes,trials,expected_success).pvalue)"
   ]
  },
  {
   "cell_type": "code",
   "execution_count": null,
   "id": "1d17006e-5a10-4297-9231-416fc49997ac",
   "metadata": {},
   "outputs": [],
   "source": [
    "# Distribution of p values\n",
    "sb.histplot(pvals_batch,bins=20)"
   ]
  },
  {
   "cell_type": "code",
   "execution_count": null,
   "id": "9033f490-0dda-411b-945f-44c39ec3d3e2",
   "metadata": {},
   "outputs": [],
   "source": [
    "# proportion of outliers\n",
    "sum(np.array(pvals_batch)<0.05) / len(pvals_batch)"
   ]
  },
  {
   "cell_type": "markdown",
   "id": "3641faa5-5569-4fd9-b3d5-6f5de602430b",
   "metadata": {},
   "source": [
    "# Comparison of high/low performing practices"
   ]
  },
  {
   "cell_type": "markdown",
   "id": "3aea01e0-0900-4669-9b48-e0ecd3434709",
   "metadata": {},
   "source": [
    "Compare practices to see if high/low perfomring ones have distinct features?\n",
    "* Size of practice (number of tests/yr)\n",
    "* Size of herds managed\n",
    "* Location?\n",
    "* ??"
   ]
  },
  {
   "cell_type": "code",
   "execution_count": null,
   "id": "360126b5-06b7-46f2-b32d-96fd3b3cf058",
   "metadata": {},
   "outputs": [],
   "source": [
    "# Add year of test\n",
    "inputVars['yearOfTest'] = inputVars.dateOfTest.apply(lambda x:x.year)"
   ]
  },
  {
   "cell_type": "code",
   "execution_count": null,
   "id": "5fd48ba6-e24b-4915-af86-24e72efe04a7",
   "metadata": {},
   "outputs": [],
   "source": [
    "# Practice accuracy\n",
    "#  Proportion of tests conducted that result in confirmed breakdown within 90 days\n",
    "practice_accuracy = 1-(inputVars.groupby(['vetPractice'])['residual'].sum() / inputVars.groupby(['vetPractice'])['residual'].count())\n",
    "practice_accuracy.name = \"accuracy\""
   ]
  },
  {
   "cell_type": "code",
   "execution_count": null,
   "id": "70528396-957f-4ec9-b66f-ad39c0fcc792",
   "metadata": {},
   "outputs": [],
   "source": [
    "# Create a dataframe to add other stats to\n",
    "practice_stats = pd.DataFrame(practice_accuracy)"
   ]
  },
  {
   "cell_type": "code",
   "execution_count": null,
   "id": "803386cd-fa97-4662-885f-272952a730a0",
   "metadata": {},
   "outputs": [],
   "source": [
    "# Size of practice (by number of tests conducted)\n",
    "practice_stats['numberOfTests'] = inputVars.groupby(['vetPractice'])['residual'].count()"
   ]
  },
  {
   "cell_type": "code",
   "execution_count": null,
   "id": "07340349-8e89-4a75-b83d-8eb9c85aae36",
   "metadata": {},
   "outputs": [],
   "source": [
    "# Mean size of herds for practice\n",
    "practice_stats['meanFarmSize'] = inputVars.groupby(['vetPractice'])['animalsTested'].mean()"
   ]
  },
  {
   "cell_type": "code",
   "execution_count": null,
   "id": "742b097a-8fdd-4e81-bc22-ef35f1c8d601",
   "metadata": {},
   "outputs": [],
   "source": [
    "practice_stats"
   ]
  },
  {
   "cell_type": "code",
   "execution_count": null,
   "id": "9aa98135-72a9-48f3-8084-d9670218eb1d",
   "metadata": {},
   "outputs": [],
   "source": [
    "# Drop the 'other' category, leaving only the top 250 practices by size\n",
    "#practice_stats_top250 = practice_stats[practice_stats.index<250]"
   ]
  },
  {
   "cell_type": "code",
   "execution_count": null,
   "id": "83907681-737f-4fe2-875b-a898b1fc044a",
   "metadata": {},
   "outputs": [],
   "source": [
    "# Get only vets that have done at least 100 tests\n",
    "practice_stats_100tests = practice_stats[practice_stats.numberOfTests>=100]"
   ]
  },
  {
   "cell_type": "code",
   "execution_count": null,
   "id": "9d49cef8-f27b-4416-8c3e-52e2e7400c82",
   "metadata": {},
   "outputs": [],
   "source": [
    "# Plot accuracy by number of tests conducted\n",
    "sb.jointplot(x='numberOfTests', y='accuracy', data=practice_stats_100tests, kind='reg')"
   ]
  },
  {
   "cell_type": "code",
   "execution_count": null,
   "id": "a6ac97c5-1b0c-4eb0-b224-ad65b1ab401e",
   "metadata": {},
   "outputs": [],
   "source": [
    "sb.jointplot(x='numberOfTests', y='meanFarmSize', data=practice_stats, kind='reg')"
   ]
  },
  {
   "cell_type": "code",
   "execution_count": null,
   "id": "2359c23d-37dc-4d43-93d2-996618d761c5",
   "metadata": {},
   "outputs": [],
   "source": [
    "# Pearson R of accuracy by number of tests conducted\n",
    "pearsonr(practice_stats.numberOfTests,practice_stats.accuracy)"
   ]
  },
  {
   "cell_type": "code",
   "execution_count": null,
   "id": "ec4aa206-06b9-4dc8-8eb9-c30b1c0d0599",
   "metadata": {},
   "outputs": [],
   "source": [
    "# Plot accuracy by mean farm size\n",
    "plt.rcParams.update({'font.size': 18})\n",
    "sb.jointplot(x='meanFarmSize', y='accuracy', data=practice_stats_100tests, kind='reg')\n",
    "plt.ylabel('Vet diagnostic accuracy')\n",
    "plt.xlabel('Mean herd size tested')\n",
    "plt.savefig('../Paper/figs/vet_acc_herd_size.pdf',bbox_inches='tight')"
   ]
  },
  {
   "cell_type": "code",
   "execution_count": null,
   "id": "993d01f3-5da7-4280-82c7-2af44a131163",
   "metadata": {},
   "outputs": [],
   "source": [
    "# Pearson R of accuracy by mean farm size\n",
    "pearsonr(practice_stats.meanFarmSize,practice_stats.accuracy)"
   ]
  },
  {
   "cell_type": "code",
   "execution_count": null,
   "id": "6b765fab-dee7-4978-8836-0bbd6d5181d3",
   "metadata": {},
   "outputs": [],
   "source": [
    "# Ouptut practice stats\n",
    "practice_stats.to_csv(\"/Data/TB_Diagnostics/vet_practice_stats.csv\")"
   ]
  },
  {
   "cell_type": "markdown",
   "id": "b0cf4f99-d963-4ff0-8b57-0f34e95d51b2",
   "metadata": {},
   "source": [
    "# Post model analysis"
   ]
  },
  {
   "cell_type": "markdown",
   "id": "9a245613-3805-4c61-bde5-7e7906d7317a",
   "metadata": {},
   "source": [
    "How does the model improve practice performance?\n",
    "* Improvement in general of practice accuracy?\n",
    "* Compare best/worst practices.\n",
    "* Confusion matrices for best/worst."
   ]
  },
  {
   "cell_type": "code",
   "execution_count": null,
   "id": "67a4b81f-f8a5-40e2-8474-2028c0467e63",
   "metadata": {},
   "outputs": [],
   "source": [
    "# Load model\n",
    "model = load('/Data/TB_Diagnostics/final_model.model')"
   ]
  },
  {
   "cell_type": "code",
   "execution_count": null,
   "id": "cc6f2748-9a1d-4c10-87c4-f8728be9bdfe",
   "metadata": {},
   "outputs": [],
   "source": [
    "# Convert dates to float\n",
    "data_X_model.dateOfTest = data_X_model.dateOfTest.astype(int).astype(float)\n",
    "# Add Random features\n",
    "data_X_model['rand'] = np.random.random_sample(len(data_X_model))\n",
    "# Convery all to float matrix\n",
    "#data_X = data_X.to_numpy()"
   ]
  },
  {
   "cell_type": "code",
   "execution_count": null,
   "id": "572d9b40-afa4-48cb-8312-91616694d9e2",
   "metadata": {},
   "outputs": [],
   "source": [
    "# run model on all data\n",
    "predict_y = model.predict(data_X_model.to_numpy())"
   ]
  },
  {
   "cell_type": "code",
   "execution_count": null,
   "id": "050dad3c-a121-452b-9991-997b1a4dee9f",
   "metadata": {},
   "outputs": [],
   "source": [
    "# Get model residuals\n",
    "predict_residual = predict_y != data_y\n",
    "inputVars['model_residual'] = predict_residual"
   ]
  },
  {
   "cell_type": "code",
   "execution_count": null,
   "id": "e00eb2c2-bfcc-4fc4-b7b1-7da92d268cf2",
   "metadata": {},
   "outputs": [],
   "source": [
    "# get model accuracy by practice\n",
    "practice_stats['model_accuracy'] = 1-(inputVars.groupby(['vetPractice'])['model_residual'].sum() / inputVars.groupby(['vetPractice'])['model_residual'].count())"
   ]
  },
  {
   "cell_type": "code",
   "execution_count": null,
   "id": "1cccae1e-d5d1-4896-97d5-ae72b57aa304",
   "metadata": {},
   "outputs": [],
   "source": [
    "# get increase in accuracy by practice\n",
    "practice_stats['accuracy_increase'] = practice_stats.model_accuracy - practice_stats.accuracy"
   ]
  },
  {
   "cell_type": "code",
   "execution_count": null,
   "id": "262ab942-f1d2-4da1-a077-751f57fca852",
   "metadata": {},
   "outputs": [],
   "source": [
    "# Drop the 'other' category, leaving only the top 250 practices by size\n",
    "#practice_stats_top250 = practice_stats[practice_stats.index<250]"
   ]
  },
  {
   "cell_type": "code",
   "execution_count": null,
   "id": "7168981c-3a70-427e-a916-356d78aadc3f",
   "metadata": {},
   "outputs": [],
   "source": [
    "# increase in accuracy by practice\n",
    "plt.rcParams.update({'font.size': 18})\n",
    "sb.histplot(practice_stats.accuracy_increase, kde=True)\n",
    "plt.ylabel('Number of practices')\n",
    "plt.xlabel('Accuracy increase with model')\n",
    "plt.savefig('../Paper/figs/vet_improvement.pdf',bbox_inches='tight')"
   ]
  },
  {
   "cell_type": "code",
   "execution_count": null,
   "id": "677f7e05-3b4d-47c0-a203-9a3b1a5802fa",
   "metadata": {},
   "outputs": [],
   "source": [
    "# mean increase in accuracy\n",
    "practice_stats.accuracy_increase.mean()"
   ]
  },
  {
   "cell_type": "code",
   "execution_count": null,
   "id": "c7d7f8e8-2a3c-49ab-bdfc-53da903c1866",
   "metadata": {},
   "outputs": [],
   "source": [
    "# Plot model accuracy by size\n",
    "plt.rcParams.update({'font.size': 18})\n",
    "sb.jointplot(x='meanFarmSize', y='model_accuracy', data=practice_stats, kind='reg')\n",
    "plt.ylabel('Model accuracy')\n",
    "plt.xlabel('Mean herd size tested')"
   ]
  },
  {
   "cell_type": "code",
   "execution_count": null,
   "id": "1e9b363e-7fba-41b8-a91e-e677acc27401",
   "metadata": {},
   "outputs": [],
   "source": [
    "# Pearson R of model accuracy by size\n",
    "pearsonr(practice_stats.meanFarmSize,practice_stats.model_accuracy)"
   ]
  },
  {
   "cell_type": "code",
   "execution_count": null,
   "id": "ae8e7f53-1dcb-47ae-96dd-33074f44e88e",
   "metadata": {},
   "outputs": [],
   "source": [
    "# Plot model accuracy increase by herd size\n",
    "sb.jointplot(x='meanFarmSize', y='accuracy_increase', data=practice_stats, kind='reg')\n",
    "plt.xlabel('Mean herd size tested')\n",
    "plt.ylabel('Practice accuracy increase')\n",
    "plt.savefig('../Paper/figs/vet_acc_inc.pdf', bbox_inches='tight')"
   ]
  },
  {
   "cell_type": "markdown",
   "id": "4b9c18c6-bcd0-4b0b-9dd0-4b651595ba7b",
   "metadata": {},
   "source": [
    "# Geospatial analysis\n",
    "\n",
    "Is the geo distribution of tests with vet data similar to all tests?\n",
    "\n",
    "Where do best/worst performing vets operate?"
   ]
  },
  {
   "cell_type": "code",
   "execution_count": null,
   "id": "0f171537-8c72-4c37-8ee2-e801fc260cc6",
   "metadata": {},
   "outputs": [],
   "source": [
    "#Projections:\n",
    "bng = 'epsg:27700' # British National Grid\n",
    "wgs84 = 'epsg:4326' # Lat.Long."
   ]
  },
  {
   "cell_type": "code",
   "execution_count": null,
   "id": "d922d030-c07d-4324-a7c5-c5196d0d3f6c",
   "metadata": {},
   "outputs": [],
   "source": [
    "#UK base map\n",
    "uk_shp = gp.read_file('/Data/Shapefiles/bdline_essh_gb/Data/Supplementary_Country/country_region.shp').to_crs(bng)\n",
    "#uk_shp.plot(color='white', edgecolor='black')\n",
    "eng_shp = uk_shp[uk_shp.NAME=='England']"
   ]
  },
  {
   "cell_type": "code",
   "execution_count": null,
   "id": "51c4e707-a9b4-4800-91e2-98acbd57cbc0",
   "metadata": {},
   "outputs": [],
   "source": [
    "# create geodataframe from data\n",
    "geo_data = gp.GeoDataFrame(inputVars, geometry=gp.points_from_xy(inputVars.locationX,inputVars.locationY), crs=bng)"
   ]
  },
  {
   "cell_type": "code",
   "execution_count": null,
   "id": "0f0a36bb-35cd-44c0-9f2e-2b6d2d92fb23",
   "metadata": {},
   "outputs": [],
   "source": [
    "# join practice stats\n",
    "geo_data = geo_data.join(practice_stats, on='vetPractice')"
   ]
  },
  {
   "cell_type": "code",
   "execution_count": null,
   "id": "ab1989b6-6202-4980-8175-17afecbbc812",
   "metadata": {},
   "outputs": [],
   "source": [
    "geo_data"
   ]
  },
  {
   "cell_type": "code",
   "execution_count": null,
   "id": "6129c47c-0578-4420-9513-9f9faaa2c7cb",
   "metadata": {},
   "outputs": [],
   "source": [
    "# Plot KDE of all tests\n",
    "\n",
    "ax = uk_shp.to_crs(bng).plot(alpha=0.2, figsize=(10,20))\n",
    "sb.kdeplot(ax=ax, x=geo_data.locationX, y=geo_data.locationY, fill=True)#, color='gold')"
   ]
  },
  {
   "cell_type": "code",
   "execution_count": null,
   "id": "2d022173-909e-4392-a9cc-32e29dbf18bf",
   "metadata": {},
   "outputs": [],
   "source": [
    "# Plot KDE of only tests with vet data\n",
    "\n",
    "ax = uk_shp.to_crs(bng).plot(alpha=0.2, figsize=(10,20))\n",
    "sb.kdeplot(ax=ax, x=geo_data.dropna(subset=['vetPractice']).locationX, y=geo_data.dropna(subset=['vetPractice']).locationY, fill=True)"
   ]
  },
  {
   "cell_type": "markdown",
   "id": "43ac8da0-b0e2-4c89-9cfb-f878adf88bfd",
   "metadata": {},
   "source": [
    "----\n",
    "## Testing...\n",
    "----"
   ]
  },
  {
   "cell_type": "code",
   "execution_count": null,
   "id": "8fecec04-3c73-4d1c-a83f-34e69704a613",
   "metadata": {},
   "outputs": [],
   "source": [
    "# Location of Vets who do the most tests\n",
    "ax = eng_shp.plot(alpha=0.2, figsize=(10,20))\n",
    "geo_data.plot(ax=ax, markersize=1.0, column='vetPractice', legend=True, legend_kwds={\"label\": \"Top 250 Vets by tests conducted (0=largest)\", \"orientation\": \"horizontal\"})\n",
    "ax.set_axis_off()"
   ]
  },
  {
   "cell_type": "code",
   "execution_count": null,
   "id": "62fbf2c9-75fc-456d-ac8d-cf0a4e96ecf3",
   "metadata": {},
   "outputs": [],
   "source": [
    "# find convex hull of points for each practice\n",
    "ax = eng_shp.plot(color='white', edgecolor='black', figsize=(10,20))\n",
    "vet_coverage = geo_data.dissolve('vetPractice').convex_hull.reset_index().iloc[:-1]\n",
    "vet_coverage.plot(ax=ax,column='vetPractice',alpha=0.2)\n",
    "ax.set_axis_off()"
   ]
  },
  {
   "cell_type": "code",
   "execution_count": null,
   "id": "878d1451-70b7-4373-89a5-86fd2eb6e04c",
   "metadata": {},
   "outputs": [],
   "source": [
    "# plot locations for vet accuracy\n",
    "ax = eng_shp.plot(alpha=0.2, figsize=(10,20))\n",
    "geo_data.plot(ax=ax, markersize=1.0, column='accuracy', legend=True, legend_kwds={\"label\": \"Vet performance\", \"orientation\": \"horizontal\"})\n",
    "ax.set_axis_off()"
   ]
  },
  {
   "cell_type": "code",
   "execution_count": null,
   "id": "4900d616-b899-4fba-bed1-2204d61e3514",
   "metadata": {},
   "outputs": [],
   "source": [
    "# convex hull of vet locations by accuracy\n",
    "ax = eng_shp.plot(color='white', edgecolor='black', figsize=(10,20))\n",
    "vet_coverage.join(practice_stats).plot(ax=ax, column='accuracy', alpha=0.2, legend=True, legend_kwds={\"label\": \"Vet accuracy\", \"orientation\": \"horizontal\"})\n",
    "ax.set_axis_off()"
   ]
  },
  {
   "cell_type": "code",
   "execution_count": null,
   "id": "6a2a1057-dee4-4acc-8451-61762e681764",
   "metadata": {},
   "outputs": [],
   "source": [
    "# plot locations for vet mean herd size\n",
    "ax = eng_shp.plot(alpha=0.2, figsize=(10,20))\n",
    "geo_data.plot(ax=ax, markersize=1.0, column='meanFarmSize', cmap='viridis_r',legend=True, legend_kwds={\"label\": \"Mean herd size for vet\", \"orientation\": \"horizontal\"})\n",
    "ax.set_axis_off()"
   ]
  }
 ],
 "metadata": {
  "kernelspec": {
   "display_name": "Python 3 (ipykernel)",
   "language": "python",
   "name": "python3"
  },
  "language_info": {
   "codemirror_mode": {
    "name": "ipython",
    "version": 3
   },
   "file_extension": ".py",
   "mimetype": "text/x-python",
   "name": "python",
   "nbconvert_exporter": "python",
   "pygments_lexer": "ipython3",
   "version": "3.10.14"
  }
 },
 "nbformat": 4,
 "nbformat_minor": 5
}
