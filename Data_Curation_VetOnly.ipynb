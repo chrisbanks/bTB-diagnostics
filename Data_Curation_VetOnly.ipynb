{
 "cells": [
  {
   "cell_type": "code",
   "execution_count": null,
   "id": "4fafef82-3964-415b-9979-7c96f76c73ad",
   "metadata": {},
   "outputs": [],
   "source": [
    "import pandas as pd"
   ]
  },
  {
   "cell_type": "code",
   "execution_count": null,
   "id": "53aa7adc-fc8f-4a34-9b00-80b78c5cda6b",
   "metadata": {},
   "outputs": [],
   "source": [
    "# Load dataset\n",
    "data = pd.read_csv('/Data/TB_Diagnostics/inputVars.csv', low_memory=False)"
   ]
  },
  {
   "cell_type": "code",
   "execution_count": null,
   "id": "81e05216-f5d8-4c13-8997-53d5f7997ee0",
   "metadata": {},
   "outputs": [],
   "source": [
    "# Remove rows with no vet practice information\n",
    "data_vet_only = data.dropna(subset=['vetPractice'])"
   ]
  },
  {
   "cell_type": "code",
   "execution_count": null,
   "id": "1a2387f4-2943-4864-a5a5-ca4e6e87f9e4",
   "metadata": {},
   "outputs": [],
   "source": [
    "# Output\n",
    "data_vet_only.to_csv('/Data/TB_Diagnostics/inputVars_VetOnly.csv', index=False)"
   ]
  }
 ],
 "metadata": {
  "kernelspec": {
   "display_name": "Python 3 (ipykernel)",
   "language": "python",
   "name": "python3"
  },
  "language_info": {
   "codemirror_mode": {
    "name": "ipython",
    "version": 3
   },
   "file_extension": ".py",
   "mimetype": "text/x-python",
   "name": "python",
   "nbconvert_exporter": "python",
   "pygments_lexer": "ipython3",
   "version": "3.10.13"
  }
 },
 "nbformat": 4,
 "nbformat_minor": 5
}
